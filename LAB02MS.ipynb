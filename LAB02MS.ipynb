{
 "cells": [
  {
   "cell_type": "markdown",
   "metadata": {},
   "source": [
    "# Laboratorio 02 - Modelación y Simulación"
   ]
  },
  {
   "cell_type": "markdown",
   "metadata": {},
   "source": [
    "## Ejercicio 1\n",
    "1. **¿Qué es el método de Euler y cómo aproxima las soluciones a las EDO?**\n",
    "\n",
    "   El método de Euler es un procedimiento numérico sencillo para aproximar soluciones a ecuaciones diferenciales ordinarias (EDO) de primer orden. Dado un problema de la forma \\(\\frac{dy}{dx} = f(x,y)\\) con una condición inicial \\(y(x_0) = y_0\\), este método aproxima la solución construyendo una secuencia de valores utilizando la fórmula de recurrencia:\n",
    "\n",
    "   \\[\n",
    "   y_{n+1} = y_n + h \\cdot f(x_n, y_n)\n",
    "   \\]\n",
    "\n",
    "   donde \\(h\\) es el tamaño del paso. Comenzando en el punto inicial \\((x_0, y_0)\\), el método usa la pendiente dada por \\(f(x_n, y_n)\\) para estimar el valor siguiente \\(y_{n+1}\\) a una distancia \\(h\\) del punto anterior en el eje \\(x\\).\n",
    "\n",
    "\n",
    "2. ¿Cuáles son las ventajas y desventajas del método de Euler en comparación con otros métodos numéricos para EDO? (Mencione al menos 1 ventaja y 1 desventaja)\n",
    "   **Ventaja**\n",
    "   El método de Euler es simple y fácil de implementar. La sencillez lo hace útil para obtener una comprensión básica de cómo se pueden aproximar las soluciones a las EDO.\n",
    "   **Desventaja**\n",
    "   Este método tiene una presición limitada y puede ser ineficiente para problemas donde se requiere una alta presición, ya que tiende a acumular errores de truncamiento. Métodos más avanzados como el método de Runge-Katta tienen mayor presición y estabilidad.\n",
    "\n",
    "3. ¿Cómo afecta la elección del tamaño de paso (h) a la precisión del método de Euler?\n",
    "   Un tamaño más pequeño generalmente aumenta la presición, ya que reduce el error de truncamiento, sin embargo esto implica tener que hacer más cálculos lo que aumenta el costo computacional. Mientras que un tamaño más grande reduce dicha cantidad de cálculos pero puede incrementar el error, haciendo que la solución se desvie de la correcta. Es por esto que es de suma importancia elegir un tamaño de paso que funcione para la aplicación y que puede computarse en un tiempo razonable."
   ]
  },
  {
   "attachments": {
    "image.png": {
     "image/png": "[encoded data removed]"
    }
   },
   "cell_type": "markdown",
   "metadata": {},
   "source": [
    "## Ejercicio 2\n",
    "\n",
    "### 2.1 Crecimiento poblacional\n",
    "\n",
    "Considere el siguiente modelo de crecimiento poblacional\n",
    "\n",
    "![image.png](attachment:image.png)\n",
    "\n",
    "Después de 4 días, una población inicial de mariposas de 15 crece a 56. Si el ecosistema restringido alberga 300 mariposas, **¿cuántas mariposas habrá en 12 días?** Suponiendo que la población de mariposas crece más rápido cuando hay 150 mariposas, **¿cuándo sucede esto?**\n",
    "\n",
    "**Nota:** Pueden usar la función `fsolve` de `scipy.optimize`"
   ]
  },
  {
   "cell_type": "code",
   "execution_count": 6,
   "metadata": {},
   "outputs": [
    {
     "name": "stdout",
     "output_type": "stream",
     "text": [
      "El tamaño estimado de la población en 12 días es: 212.54\n"
     ]
    }
   ],
   "source": [
    "import numpy as np\n",
    "\n",
    "# función de crecimiento\n",
    "def crecimiento(k, n, y):\n",
    "    return k * (1 - (y / n)) * y\n",
    "\n",
    "# Método de Euler para aproximar la solución de la ecuación diferencial\n",
    "def euler_method(k, n, y0, t0, tf, dt):\n",
    "    t = np.arange(t0, tf, dt)\n",
    "    y = np.zeros(t.shape)\n",
    "    y[0] = y0\n",
    "    for i in range(1, len(t)):\n",
    "        y[i] = y[i-1] + crecimiento(k, n, y[i-1]) * dt\n",
    "    return y[-1]\n",
    "\n",
    "# Datos proporcionados\n",
    "y0 = 15  # Población inicial\n",
    "y4 = 56  # Población después de 4 días\n",
    "n = 300  # Capacidad de carga\n",
    "dt = 1   # Intervalo de tiempo en días\n",
    "\n",
    "# Estimación de k\n",
    "# Asumimos que k es constante y usamos los valores de población en t=0 y t=4 para estimar k\n",
    "# Esta es una simplificación y puede no ser precisa\n",
    "k_estimado = (np.log(y4/y0) / 4) / (1 - ((y0 + y4) / (2 * n)))\n",
    "\n",
    "# Predicción del tamaño de la población en 12 días\n",
    "tamaño_12_días = euler_method(k_estimado, n, y0, 0, 12, dt)\n",
    "\n",
    "print(f\"El tamaño estimado de la población en 12 días es: {tamaño_12_días:.2f}\")"
   ]
  },
  {
   "cell_type": "code",
   "execution_count": 7,
   "metadata": {},
   "outputs": [
    {
     "name": "stdout",
     "output_type": "stream",
     "text": [
      "La población de mariposas alcanza 150 más rápido en t = 33.80 días. \n"
     ]
    }
   ],
   "source": [
    "import numpy as np\n",
    "\n",
    "# Parámetros del modelo\n",
    "r = 0.1  # Tasa intrínseca de crecimiento (ejemplo)\n",
    "N = 300  # Capacidad de carga\n",
    "P0 = 10  # Población inicial\n",
    "target_P = 150  # Población objetivo\n",
    "\n",
    "# Método de Euler para simular la ecuación logística\n",
    "def euler_logistic(r, N, P0, target_P, dt=0.1):\n",
    "    P = P0\n",
    "    t = 0\n",
    "    while P < target_P:\n",
    "        dP = r * P * (1 - P / N) * dt\n",
    "        P += dP\n",
    "        t += dt\n",
    "    return t\n",
    "\n",
    "# Calcular el tiempo cuando la población alcanza 150\n",
    "tiempo = euler_logistic(r, N, P0, target_P)\n",
    "\n",
    "print(f\"La población de mariposas alcanza 150 más rápido en t = {tiempo:.2f} días. \")"
   ]
  },
  {
   "cell_type": "markdown",
   "metadata": {},
   "source": [
    "### 2.2 Crecimiento Epidemiológico\n",
    "En un pueblo aislado se propaga una enfermedad según el modelo SIR. Inicialmente hay 990 individuos susceptibles (S), 10 individuos infectados (I) y 0 individuos recuperados (R). La tasa de infección (𝛽) es 0.3 y la tasa de recuperación (𝛾) es 0.1. Utilizando el método de Euler, estime el número de individuos susceptibles, infectados y recuperados durante un período de 50 días. Utilice un tamaño de paso (Δt) de 0.1 días.\n",
    "        \n"
   ]
  },
  {
   "cell_type": "code",
   "execution_count": 6,
   "metadata": {},
   "outputs": [
    {
     "name": "stdout",
     "output_type": "stream",
     "text": [
      "Después de 50 días:\n",
      "Individuos susceptibles: 81\n",
      "Individuos infectados: 88\n",
      "Individuos recuperados: 830\n"
     ]
    }
   ],
   "source": [
    "# Parámetros del modelo\n",
    "beta = 0.3  # Tasa de infección\n",
    "gamma = 0.1  # Tasa de recuperación\n",
    "S0 = 990  # Población inicial de susceptibles\n",
    "I0 = 10  # Población inicial de infectados\n",
    "R0 = 0  # Población inicial de recuperados\n",
    "dt = 0.1  # Tamaño de paso\n",
    "días = 50  # Número de días\n",
    "\n",
    "# Método de Euler para simular el modelo SIR\n",
    "def euler_sir(beta, gamma, S0, I0, R0, dt, días):\n",
    "    N = S0 + I0 + R0\n",
    "    S, I, R = S0, I0, R0\n",
    "    sus, inf, rec = [S], [I], [R]\n",
    "    for _ in range(int(días/dt)):\n",
    "        dS = -beta * S * I / N\n",
    "        dR = gamma * I\n",
    "        dI = -(dS + dR)\n",
    "        S += dS * dt\n",
    "        I += dI * dt\n",
    "        R += dR * dt\n",
    "        sus.append(S)\n",
    "        inf.append(I)\n",
    "        rec.append(R)\n",
    "    return sus, inf, rec\n",
    "\n",
    "# Simular el modelo SIR\n",
    "susceptibles, infectados, recuperados = euler_sir(beta, gamma, S0, I0, R0, dt, días)\n",
    "\n",
    "print(f\"Después de {días} días:\")\n",
    "print(f\"Individuos susceptibles: {int(susceptibles[-1])}\")\n",
    "print(f\"Individuos infectados: {int(infectados[-1])}\")\n",
    "print(f\"Individuos recuperados: {int(recuperados[-1])}\")\n",
    "\n",
    "\n"
   ]
  }
 ],
 "metadata": {
  "kernelspec": {
   "display_name": "Python 3",
   "language": "python",
   "name": "python3"
  },
  "language_info": {
   "codemirror_mode": {
    "name": "ipython",
    "version": 3
   },
   "file_extension": ".py",
   "mimetype": "text/x-python",
   "name": "python",
   "nbconvert_exporter": "python",
   "pygments_lexer": "ipython3",
   "version": "3.11.4"
  }
 },
 "nbformat": 4,
 "nbformat_minor": 2
}
