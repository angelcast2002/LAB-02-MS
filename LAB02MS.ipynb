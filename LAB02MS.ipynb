{
 "cells": [
  {
   "cell_type": "markdown",
   "metadata": {},
   "source": [
    "# Laboratorio 02 - Modelación y Simulación"
   ]
  },
  {
   "cell_type": "markdown",
   "metadata": {},
   "source": [
    "## Ejercicio 1\n",
    "1. ¿Qué es el método de Euler y cómo aproxima las soluciones a las EDO?\n",
    "  \n",
    "Es un procedimiento numérico sencillo para aproximar soluciones a ecuaciones diferenciales (EDO) de primer orden. Dado un problema de la forma dy/dx = f(x,y) con una condición inicial y(x0) = y0, este método aproxima la solución construyendo una secuencia de valores, utilizando la fórmula de recurrencia: \n",
    "\n",
    "yn+1=yn + h*f(xn,yn)\n",
    "\n",
    "donde h es el tamaño del paso. Comenzando en el punto inicial \n",
    "\n",
    "1. ¿Cuáles son las ventajas y desventajas del método de Euler en comparación con otros métodos numéricos para EDO? (Mencione al menos 1 ventaja y 1 desventaja)\n",
    "2. ¿Cómo afecta la elección del tamaño de paso (h) a la precisión del método de Euler?"
   ]
  }
 ],
 "metadata": {
  "language_info": {
   "name": "python"
  }
 },
 "nbformat": 4,
 "nbformat_minor": 2
}
